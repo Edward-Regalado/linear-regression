{
  "nbformat": 4,
  "nbformat_minor": 0,
  "metadata": {
    "colab": {
      "name": "Untitled1.ipynb",
      "provenance": [],
      "authorship_tag": "ABX9TyNDEZsSJ4E8FAShjUChksJ1",
      "include_colab_link": true
    },
    "kernelspec": {
      "name": "python3",
      "display_name": "Python 3"
    },
    "language_info": {
      "name": "python"
    }
  },
  "cells": [
    {
      "cell_type": "markdown",
      "metadata": {
        "id": "view-in-github",
        "colab_type": "text"
      },
      "source": [
        "<a href=\"https://colab.research.google.com/github/Edward-Regalado/linear-regression/blob/main/linear-regression.ipynb\" target=\"_parent\"><img src=\"https://colab.research.google.com/assets/colab-badge.svg\" alt=\"Open In Colab\"/></a>"
      ]
    },
    {
      "cell_type": "markdown",
      "metadata": {
        "id": "iuTBapl4FL1e"
      },
      "source": [
        "# Linear Regressions"
      ]
    },
    {
      "cell_type": "code",
      "metadata": {
        "id": "HjLnyynRFlJX"
      },
      "source": [
        "# import required data files"
      ],
      "execution_count": null,
      "outputs": []
    },
    {
      "cell_type": "code",
      "metadata": {
        "id": "iuWDXFM-FqM5"
      },
      "source": [
        "# import dependencies\n",
        "import panda as pd\n",
        "import matplotlib as plt\n",
        "import "
      ],
      "execution_count": null,
      "outputs": []
    }
  ]
}